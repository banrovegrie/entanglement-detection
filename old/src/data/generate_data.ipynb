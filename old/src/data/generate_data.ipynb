{
  "cells": [
    {
      "cell_type": "code",
      "execution_count": null,
      "metadata": {
        "id": "6PK8-biy5VHP"
      },
      "outputs": [],
      "source": [
        "!pip install numpy\n",
        "!pip install qutip\n",
        "!pip install cirq"
      ]
    },
    {
      "cell_type": "code",
      "execution_count": 3,
      "metadata": {
        "id": "hO4SQ10D5I9a"
      },
      "outputs": [],
      "source": [
        "import qutip\n",
        "import numpy as np\n",
        "import random\n",
        "from matplotlib import pyplot as plt\n",
        "from cirq.linalg import is_unitary\n",
        "from cirq.qis.states import validate_density_matrix\n",
        "\n",
        "\"\"\"\n",
        "We are trying to create separable states of order 3 \\otimes 3.\n",
        "Procedure:\n",
        "- Create random density matrices of size 3x3.\n",
        "- Take random sum of tensor product of random a, b \\in 3x3 dm-set\n",
        "with a certain random probability associated with it.\n",
        "\"\"\"\n",
        "\n",
        "\n",
        "def embed(matrix: np.ndarray) -> list:\n",
        "    x, y = matrix.shape\n",
        "\n",
        "    # Validate the given density matrix\n",
        "    try:\n",
        "        validate_density_matrix(matrix, qid_shape=x)\n",
        "    except:\n",
        "        print(f\"Not valid density matrix: {matrix}\")\n",
        "        exit(0)\n",
        "    matrix = matrix.tolist()\n",
        "\n",
        "    # Flatten and embed the density matrix by taking care that,\n",
        "    # it has (n - 1) diagonal values and upper traingular matrix.\n",
        "    flattened = []\n",
        "    for i in range(x):\n",
        "        for j in range(y):\n",
        "            if i < j:\n",
        "                flattened.append(matrix[i][j])\n",
        "\n",
        "    # Embed the real and complex values respectively.\n",
        "    embedding = []\n",
        "    for i in flattened:\n",
        "        embedding.extend([i.real, i.imag])\n",
        "\n",
        "    # Embed diagonal matrices\n",
        "    for i in range(1, x):\n",
        "        embedding.append(matrix[i][i].real)\n",
        "\n",
        "    return embedding\n",
        "\n",
        "\n",
        "def get_separable_state(n: int, m: int, max_len: int = 50) -> np.ndarray:\n",
        "    l = random.randint(1, max_len)\n",
        "    prob = np.array([random.random() for _ in range(l)])\n",
        "    prob = prob / np.sum(prob)\n",
        "\n",
        "    separable_state = np.zeros((n * m, n * m))\n",
        "    for i in range(l):\n",
        "        tensor = np.kron(np.array(qutip.rand_dm(n)), np.array(qutip.rand_dm(m)))\n",
        "        separable_state = np.add(separable_state, prob[i] * tensor)\n",
        "\n",
        "    # print(separable_state, \"\\n\\n\", separable_state.shape, \"\\n\\n\")\n",
        "    return separable_state\n",
        "\n",
        "\n",
        "def get_separable_states(num: int, n: int, m: int) -> np.ndarray:\n",
        "    separable_states = []\n",
        "    for i in range(num):\n",
        "        separable_states.append(embed(get_separable_state(n, m)))\n",
        "        print(i)\n",
        "    return np.array(separable_states)\n",
        "\n",
        "\n",
        "def get_random_states(num: int, n: int, m: int) -> np.ndarray:\n",
        "    random_states = []\n",
        "    for i in range(num):\n",
        "        random_states.append(embed(np.array(qutip.rand_dm(n * m))))\n",
        "        print(i)\n",
        "    return np.array(random_states)"
      ]
    },
    {
      "cell_type": "code",
      "execution_count": null,
      "metadata": {
        "id": "6F2qM-Go5fFt"
      },
      "outputs": [],
      "source": [
        "np.save(\"train_data_2x2\", get_separable_states(50000, 2, 2))"
      ]
    },
    {
      "cell_type": "code",
      "source": [
        "np.save(\"train_data_2x3\", get_separable_states(50000, 2, 3))"
      ],
      "metadata": {
        "id": "ksh8tSyyDmqC"
      },
      "execution_count": null,
      "outputs": []
    }
  ],
  "metadata": {
    "accelerator": "GPU",
    "colab": {
      "name": "generate_data.ipynb",
      "provenance": []
    },
    "gpuClass": "standard",
    "kernelspec": {
      "display_name": "Python 3",
      "name": "python3"
    },
    "language_info": {
      "name": "python"
    }
  },
  "nbformat": 4,
  "nbformat_minor": 0
}