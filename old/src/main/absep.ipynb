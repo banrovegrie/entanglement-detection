{
 "cells": [
  {
   "cell_type": "code",
   "execution_count": 29,
   "metadata": {
    "id": "her29_Qg7tgZ"
   },
   "outputs": [],
   "source": [
    "try:\n",
    "    import numpy as np\n",
    "    from math import sqrt\n",
    "    import math\n",
    "    import scipy\n",
    "    import random\n",
    "    import qutip\n",
    "except:\n",
    "    !pip install qutip\n",
    "    !pip install numpy\n",
    "    !pip install scipy\n",
    "    import numpy as np\n",
    "    import scipy\n",
    "    import qutip"
   ]
  },
  {
   "cell_type": "code",
   "execution_count": 31,
   "metadata": {
    "id": "Lkspv10Y8JMX"
   },
   "outputs": [],
   "source": [
    "# Find \n",
    "def find_entangled_matrices(n, m, num):\n",
    "    entangled_matrices = []\n",
    "    for i in range(num):\n",
    "        matrix = qutip.rand_dm(n * m, dims=[[n, n], [m, m]])\n",
    "        if np.all(qutip.partial_transpose(matrix, [0, 1]).eigenenergies()) > 0:\n",
    "            entangled_matrices.append(matrix)\n",
    "    return entangled_matrices"
   ]
  },
  {
   "cell_type": "code",
   "execution_count": 39,
   "metadata": {
    "id": "cgCq7d838y_B"
   },
   "outputs": [],
   "source": [
    "# PPT entangled state \\in 3 \\otimes 3\n",
    "def rho(a):\n",
    "    b = (1 + a) / 2\n",
    "    c = (1 - a**2)**(1/2) / 2\n",
    "    matrix = (1 / (8 * a + 1)) * np.array([\n",
    "        [a, 0, 0, 0, a, 0, 0, 0, a],\n",
    "        [0, a, 0, 0, 0, 0, 0, 0, 0],\n",
    "        [0, 0, a, 0, 0, 0, 0, 0, 0],\n",
    "        [0, 0, 0, a, 0, 0, 0, 0, 0],\n",
    "        [a, 0, 0, 0, a, 0, 0, 0, a],\n",
    "        [0, 0, 0, 0, 0, a, 0, 0, 0],\n",
    "        [0, 0, 0, 0, 0, 0, b, 0, c],\n",
    "        [0, 0, 0, 0, 0, 0, 0, a, 0],\n",
    "        [a, 0, 0, 0, a, 0, c, 0, b]\n",
    "    ])\n",
    "    return qutip.Qobj(matrix)"
   ]
  },
  {
   "cell_type": "code",
   "execution_count": 41,
   "metadata": {
    "colab": {
     "base_uri": "https://localhost:8080/"
    },
    "id": "fVEMHc8O4JEb",
    "outputId": "e41a386f-542a-49f3-841c-4ce98965c227"
   },
   "outputs": [
    {
     "data": {
      "text/latex": [
       "Quantum object: dims = [[9], [9]], shape = (9, 9), type = oper, isherm = True\\begin{equation*}\\left(\\begin{array}{*{11}c}0.100 & 0.0 & 0.0 & 0.0 & 0.100 & 0.0 & 0.0 & 0.0 & 0.100\\\\0.0 & 0.100 & 0.0 & 0.0 & 0.0 & 0.0 & 0.0 & 0.0 & 0.0\\\\0.0 & 0.0 & 0.100 & 0.0 & 0.0 & 0.0 & 0.0 & 0.0 & 0.0\\\\0.0 & 0.0 & 0.0 & 0.100 & 0.0 & 0.0 & 0.0 & 0.0 & 0.0\\\\0.100 & 0.0 & 0.0 & 0.0 & 0.100 & 0.0 & 0.0 & 0.0 & 0.100\\\\0.0 & 0.0 & 0.0 & 0.0 & 0.0 & 0.100 & 0.0 & 0.0 & 0.0\\\\0.0 & 0.0 & 0.0 & 0.0 & 0.0 & 0.0 & 0.150 & 0.0 & 0.087\\\\0.0 & 0.0 & 0.0 & 0.0 & 0.0 & 0.0 & 0.0 & 0.100 & 0.0\\\\0.100 & 0.0 & 0.0 & 0.0 & 0.100 & 0.0 & 0.087 & 0.0 & 0.150\\\\\\end{array}\\right)\\end{equation*}"
      ],
      "text/plain": [
       "Quantum object: dims = [[9], [9]], shape = (9, 9), type = oper, isherm = True\n",
       "Qobj data =\n",
       "[[0.1        0.         0.         0.         0.1        0.\n",
       "  0.         0.         0.1       ]\n",
       " [0.         0.1        0.         0.         0.         0.\n",
       "  0.         0.         0.        ]\n",
       " [0.         0.         0.1        0.         0.         0.\n",
       "  0.         0.         0.        ]\n",
       " [0.         0.         0.         0.1        0.         0.\n",
       "  0.         0.         0.        ]\n",
       " [0.1        0.         0.         0.         0.1        0.\n",
       "  0.         0.         0.1       ]\n",
       " [0.         0.         0.         0.         0.         0.1\n",
       "  0.         0.         0.        ]\n",
       " [0.         0.         0.         0.         0.         0.\n",
       "  0.15       0.         0.08660254]\n",
       " [0.         0.         0.         0.         0.         0.\n",
       "  0.         0.1        0.        ]\n",
       " [0.1        0.         0.         0.         0.1        0.\n",
       "  0.08660254 0.         0.15      ]]"
      ]
     },
     "execution_count": 41,
     "metadata": {},
     "output_type": "execute_result"
    }
   ],
   "source": [
    "rho(0.5)"
   ]
  },
  {
   "cell_type": "code",
   "execution_count": 97,
   "metadata": {},
   "outputs": [],
   "source": [
    "\"\"\"\n",
    "Entangled state \\in 3 \\otimes 3.\n",
    "\n",
    "The following state \\sigma(a) is:\n",
    "    - separable for 2 <= a <= 3,\n",
    "    - bound entangled for 3 < a <= 4,\n",
    "    - free entangled for 4 < a <= 5.\n",
    "\"\"\"\n",
    "\n",
    "import qutip.tensor as tensor\n",
    "\n",
    "def sigma(a):\n",
    "    x = qutip.Qobj(np.array([1, 0, 0]))\n",
    "    y = qutip.Qobj(np.array([0, 1, 0]))\n",
    "    z = qutip.Qobj(np.array([0, 0, 1]))\n",
    "    sigma_plus = 1/3 * (\n",
    "        (tensor(x, y) * tensor(x.dag(), y.dag()))\n",
    "        + (tensor(y, z) * tensor(y.dag(), z.dag()))\n",
    "        + (tensor(z, x) * tensor(z.dag(), x.dag()))\n",
    "    )\n",
    "    sigma_minus = 1/3 * (\n",
    "        (tensor(y, x) * tensor(y.dag(), x.dag()))\n",
    "        + (tensor(z, y) * tensor(z.dag(), y.dag()))\n",
    "        + (tensor(x, z) * tensor(x.dag(), z.dag()))\n",
    "    )\n",
    "    phi = (1 / (3 ** 0.5)) * (\n",
    "        tensor(x, x) \n",
    "        + tensor(y, y) \n",
    "        + tensor(z, z)\n",
    "    )\n",
    "    return (2 / 7 * phi * phi.dag() \n",
    "            + a / 7 * sigma_plus \n",
    "            + (5 - a) / 7 * sigma_minus)"
   ]
  },
  {
   "cell_type": "code",
   "execution_count": 102,
   "metadata": {},
   "outputs": [
    {
     "data": {
      "text/latex": [
       "Quantum object: dims = [[3, 3], [3, 3]], shape = (9, 9), type = oper, isherm = True\\begin{equation*}\\left(\\begin{array}{*{11}c}0.095 & 0.0 & 0.0 & 0.0 & 0.095 & 0.0 & 0.0 & 0.0 & 0.095\\\\0.0 & 0.048 & 0.0 & 0.0 & 0.0 & 0.0 & 0.0 & 0.0 & 0.0\\\\0.0 & 0.0 & 0.190 & 0.0 & 0.0 & 0.0 & 0.0 & 0.0 & 0.0\\\\0.0 & 0.0 & 0.0 & 0.190 & 0.0 & 0.0 & 0.0 & 0.0 & 0.0\\\\0.095 & 0.0 & 0.0 & 0.0 & 0.095 & 0.0 & 0.0 & 0.0 & 0.095\\\\0.0 & 0.0 & 0.0 & 0.0 & 0.0 & 0.048 & 0.0 & 0.0 & 0.0\\\\0.0 & 0.0 & 0.0 & 0.0 & 0.0 & 0.0 & 0.048 & 0.0 & 0.0\\\\0.0 & 0.0 & 0.0 & 0.0 & 0.0 & 0.0 & 0.0 & 0.190 & 0.0\\\\0.095 & 0.0 & 0.0 & 0.0 & 0.095 & 0.0 & 0.0 & 0.0 & 0.095\\\\\\end{array}\\right)\\end{equation*}"
      ],
      "text/plain": [
       "Quantum object: dims = [[3, 3], [3, 3]], shape = (9, 9), type = oper, isherm = True\n",
       "Qobj data =\n",
       "[[0.0952381  0.         0.         0.         0.0952381  0.\n",
       "  0.         0.         0.0952381 ]\n",
       " [0.         0.04761905 0.         0.         0.         0.\n",
       "  0.         0.         0.        ]\n",
       " [0.         0.         0.19047619 0.         0.         0.\n",
       "  0.         0.         0.        ]\n",
       " [0.         0.         0.         0.19047619 0.         0.\n",
       "  0.         0.         0.        ]\n",
       " [0.0952381  0.         0.         0.         0.0952381  0.\n",
       "  0.         0.         0.0952381 ]\n",
       " [0.         0.         0.         0.         0.         0.04761905\n",
       "  0.         0.         0.        ]\n",
       " [0.         0.         0.         0.         0.         0.\n",
       "  0.04761905 0.         0.        ]\n",
       " [0.         0.         0.         0.         0.         0.\n",
       "  0.         0.19047619 0.        ]\n",
       " [0.0952381  0.         0.         0.         0.0952381  0.\n",
       "  0.         0.         0.0952381 ]]"
      ]
     },
     "execution_count": 102,
     "metadata": {},
     "output_type": "execute_result"
    }
   ],
   "source": [
    "sigma(1)"
   ]
  },
  {
   "cell_type": "code",
   "execution_count": 49,
   "metadata": {
    "id": "rneNfOkhCuPz"
   },
   "outputs": [],
   "source": [
    "def absolute_ppt(matrix):\n",
    "    n, m = 3, 3\n",
    "    l = [0]\n",
    "    l.extend(list(np.sort(matrix.eigenenergies())[::-1]))\n",
    "    l = np.array(l)\n",
    "    \n",
    "    L1 = np.array((\n",
    "      [[2 * l[3*n], l[3*n-1] - l[1], l[3*n-3] - l[2]],\n",
    "       [l[3*n-1] - l[1], 2 * l[3*n-2], l[3*n-4] - l[3]],\n",
    "       [l[3*n-3] - l[2], l[3*n-4] - l[3], 2 * l[3*n-5]]]\n",
    "    ))\n",
    "    L2 = np.array((\n",
    "      [[2 * l[3*n], l[3*n-1] - l[1], l[3*n-2] - l[2]],\n",
    "       [l[3*n-1] - l[1], 2 * l[3*n-3], l[3*n-4] - l[3]],\n",
    "       [l[3*n-2] - l[2], l[3*n-4] - l[3], 2 * l[3*n-5]]]\n",
    "    ))\n",
    "    return np.all(np.linalg.eigvals(L1) >= 0) and np.all(np.linalg.eigvals(L2) >= 0)"
   ]
  },
  {
   "cell_type": "code",
   "execution_count": 109,
   "metadata": {
    "colab": {
     "base_uri": "https://localhost:8080/"
    },
    "id": "iEpTDXjPDE0g",
    "outputId": "7b1f3913-d578-4b1a-a591-13be9b9b5a5a"
   },
   "outputs": [
    {
     "name": "stderr",
     "output_type": "stream",
     "text": [
      "100%|██████████| 10000/10000 [00:48<00:00, 204.17it/s]\n"
     ]
    }
   ],
   "source": [
    "from tqdm import trange\n",
    "\n",
    "it = 10000 \n",
    "for i in trange(3 * it, 4 * it):\n",
    "    if absolute_ppt(sigma(i/it)):\n",
    "        print(\"Voila\")\n",
    "        break"
   ]
  }
 ],
 "metadata": {
  "colab": {
   "provenance": []
  },
  "kernelspec": {
   "display_name": "Python 3",
   "language": "python",
   "name": "python3"
  },
  "language_info": {
   "codemirror_mode": {
    "name": "ipython",
    "version": 3
   },
   "file_extension": ".py",
   "mimetype": "text/x-python",
   "name": "python",
   "nbconvert_exporter": "python",
   "pygments_lexer": "ipython3",
   "version": "3.8.10"
  }
 },
 "nbformat": 4,
 "nbformat_minor": 1
}
